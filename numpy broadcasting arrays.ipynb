{
 "cells": [
  {
   "cell_type": "code",
   "execution_count": 38,
   "metadata": {},
   "outputs": [
    {
     "name": "stdout",
     "output_type": "stream",
     "text": [
      "0.6515514850616455\n"
     ]
    }
   ],
   "source": [
    "import numpy as np\n",
    "import time\n",
    "#example two, this is using the reshape function in numpy to broadcast the array\n",
    "a=np.arange(0,1000)\n",
    "b=np.arange(1000,2000)\n",
    "start1=time.time()\n",
    "for i in range (len(a)):\n",
    "    for j in range(len(b)):\n",
    "        d[i,j]=a[i]-b[j]\n",
    "end1=time.time()\n",
    "print(end1-start1)\n",
    "#print(d)"
   ]
  },
  {
   "cell_type": "code",
   "execution_count": 41,
   "metadata": {},
   "outputs": [
    {
     "name": "stdout",
     "output_type": "stream",
     "text": [
      "0.002991199493408203\n",
      "0\n"
     ]
    }
   ],
   "source": [
    "#this is a niftier way to do this same task, it utilizes the np.newaxis function to perform an array operation\n",
    "a=np.arange(0,1000)\n",
    "b=np.arange(1000,2000)\n",
    "start1=time.time()\n",
    "d1=a[:,np.newaxis]-b[np.newaxis,:]\n",
    "end1=time.time()\n",
    "print(end1-start1)\n",
    "print(np.sum(abs(d1-d))) #prints the error"
   ]
  },
  {
   "cell_type": "code",
   "execution_count": 51,
   "metadata": {},
   "outputs": [
    {
     "name": "stdout",
     "output_type": "stream",
     "text": [
      "5.588155031204224\n"
     ]
    }
   ],
   "source": [
    "#now lets try doing this with an extr dimention, and we should compute the norm\n",
    "a=np.arange(0,3000).reshape(1000,3)\n",
    "b=np.arange(3000,6000).reshape(1000,3)\n",
    "d=np.zeros([1000,1000,3])\n",
    "d_norm=np.zeros([1000,1000])\n",
    "start1=time.time()\n",
    "for i in range (len(a)):\n",
    "    for j in range(len(b)):\n",
    "        d[i,j,:]=a[i,:]-b[j,:]\n",
    "        d_norm[i,j]=np.linalg.norm(d[i,j,:])\n",
    "end1=time.time()\n",
    "print(end1-start1)\n",
    "#print(d)"
   ]
  },
  {
   "cell_type": "code",
   "execution_count": 54,
   "metadata": {},
   "outputs": [
    {
     "name": "stdout",
     "output_type": "stream",
     "text": [
      "0.05884361267089844\n",
      "0.0\n"
     ]
    }
   ],
   "source": [
    "#now lets try doing this with an extra dimention\n",
    "a=np.arange(0,3000).reshape(1000,3)\n",
    "b=np.arange(3000,6000).reshape(1000,3)\n",
    "\n",
    "start1=time.time()\n",
    "d1=a[:,np.newaxis,:]-b[np.newaxis,:,:]\n",
    "d1_norm=np.linalg.norm(d1,axis=2)\n",
    "end1=time.time()\n",
    "print(end1-start1)\n",
    "print(np.sum(abs(d1-d))) #prints the error"
   ]
  },
  {
   "cell_type": "code",
   "execution_count": null,
   "metadata": {
    "collapsed": true
   },
   "outputs": [],
   "source": []
  }
 ],
 "metadata": {
  "kernelspec": {
   "display_name": "Python 3",
   "language": "python",
   "name": "python3"
  },
  "language_info": {
   "codemirror_mode": {
    "name": "ipython",
    "version": 3
   },
   "file_extension": ".py",
   "mimetype": "text/x-python",
   "name": "python",
   "nbconvert_exporter": "python",
   "pygments_lexer": "ipython3",
   "version": "3.6.2"
  }
 },
 "nbformat": 4,
 "nbformat_minor": 2
}
